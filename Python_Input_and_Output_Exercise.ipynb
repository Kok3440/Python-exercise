{
  "nbformat": 4,
  "nbformat_minor": 0,
  "metadata": {
    "colab": {
      "provenance": []
    },
    "kernelspec": {
      "name": "python3",
      "display_name": "Python 3"
    },
    "language_info": {
      "name": "python"
    }
  },
  "cells": [
    {
      "cell_type": "code",
      "execution_count": 2,
      "metadata": {
        "id": "EeILCNxtDNhx",
        "colab": {
          "base_uri": "https://localhost:8080/"
        },
        "outputId": "28de92fa-4140-4e7a-e554-17588d584254"
      },
      "outputs": [
        {
          "output_type": "stream",
          "name": "stdout",
          "text": [
            "Enter first number: 2\n",
            "Enter second number: 6\n",
            "The product of 2 and 6 is 12\n"
          ]
        }
      ],
      "source": [
        "#Exercise 1: Accept Numbers From User\n",
        "\n",
        "num1 = int(input(\"Enter first number: \"))\n",
        "num2 = int(input(\"Enter second number: \"))\n",
        "product = (num1) * (num2)\n",
        "print(\"The product of {} and {} is {}\".format(num1, num2, product))"
      ]
    },
    {
      "cell_type": "code",
      "source": [
        "#Exercise 2: Format Output String\n",
        "str1 = 'My'\n",
        "str2 = 'Name'\n",
        "str3 = 'Is'\n",
        "str4 = 'James'\n",
        "\n",
        "\n",
        "print(str1,str2,str3,str4 , sep=\"**\")"
      ],
      "metadata": {
        "colab": {
          "base_uri": "https://localhost:8080/"
        },
        "id": "amUyowGlauNf",
        "outputId": "4707a649-aada-4ac5-93e7-88ed5184f474"
      },
      "execution_count": 4,
      "outputs": [
        {
          "output_type": "stream",
          "name": "stdout",
          "text": [
            "My**Name**Is**James\n"
          ]
        }
      ]
    },
    {
      "cell_type": "code",
      "source": [
        "#Exercise 3: Display Decimal Number to Octal using print() function\n",
        "\n",
        "num = 8\n",
        "\n",
        "print('%o' % num)\n",
        "# yuvarlama"
      ],
      "metadata": {
        "colab": {
          "base_uri": "https://localhost:8080/"
        },
        "id": "jRoNaYsfbJ2c",
        "outputId": "027cbb77-c1c3-48fd-8ee4-712f9966c711"
      },
      "execution_count": 6,
      "outputs": [
        {
          "output_type": "stream",
          "name": "stdout",
          "text": [
            "10\n"
          ]
        }
      ]
    },
    {
      "cell_type": "code",
      "source": [
        "#Exercise 4: Display Float Number with 2 Decimal Places\n",
        "\n",
        "num = 458.541315\n",
        "\n",
        "print(round(num,2))"
      ],
      "metadata": {
        "colab": {
          "base_uri": "https://localhost:8080/"
        },
        "id": "OLStUdRSbpaN",
        "outputId": "d80790e1-0fff-43bb-9c3c-b4cdc76a8842"
      },
      "execution_count": 8,
      "outputs": [
        {
          "output_type": "stream",
          "name": "stdout",
          "text": [
            "458.54\n",
            "(458.541315, 3)\n"
          ]
        }
      ]
    },
    {
      "cell_type": "code",
      "source": [
        "#Exercise 5: Accept a list of 5 float numbers as an input from the user\n",
        "\n",
        "numbers = []\n",
        "\n",
        "for i in range(0, 5):\n",
        "    print(\"Enter number at index\", i, \":\")\n",
        "    item = float(input())\n",
        "    numbers.append(item)\n",
        "\n",
        "print(\"User List:\", numbers)"
      ],
      "metadata": {
        "colab": {
          "base_uri": "https://localhost:8080/"
        },
        "id": "3vxnRlQFcF_A",
        "outputId": "d3b0ce22-3e26-472c-b603-5067f3716d33"
      },
      "execution_count": 10,
      "outputs": [
        {
          "output_type": "stream",
          "name": "stdout",
          "text": [
            "Enter number at index 0 :\n",
            "5\n",
            "Enter number at index 1 :\n",
            "2.45\n",
            "Enter number at index 2 :\n",
            "5.89\n",
            "Enter number at index 3 :\n",
            "0.123\n",
            "Enter number at index 4 :\n",
            "25.89\n",
            "User List: [5.0, 2.45, 5.89, 0.123, 25.89]\n"
          ]
        }
      ]
    },
    {
      "cell_type": "code",
      "source": [
        "#Exercise 7: Accept any three string from one input() call\n",
        "\n",
        "str1, str2, str3 = input(\"Enter three string\").split()\n",
        "print('Name1:', str1)\n",
        "print('Name2:', str2)\n",
        "print('Name3:', str3)\n"
      ],
      "metadata": {
        "colab": {
          "base_uri": "https://localhost:8080/"
        },
        "id": "dj1ulFDqcmb1",
        "outputId": "77c2c63b-fb82-402c-bf19-b4fe85123ad4"
      },
      "execution_count": 13,
      "outputs": [
        {
          "output_type": "stream",
          "name": "stdout",
          "text": [
            "Enter three stringemre ali faruk\n",
            "Name1: emre\n",
            "Name2: ali\n",
            "Name3: faruk\n"
          ]
        }
      ]
    },
    {
      "cell_type": "code",
      "source": [
        "#Exercise 8: Format variables using string.format() method\n",
        "\n",
        "quantity = 3\n",
        "totalMoney = 1000\n",
        "price = 450\n",
        "statement1 = \"I have {1} dollars so I can buy {0} football for {2:.2f} dollars.\"\n",
        "print(statement1.format(quantity, totalMoney, price))"
      ],
      "metadata": {
        "colab": {
          "base_uri": "https://localhost:8080/"
        },
        "id": "3Cc5KN2qdxue",
        "outputId": "d6a2da74-37b4-44af-ab80-ffe73035336b"
      },
      "execution_count": 14,
      "outputs": [
        {
          "output_type": "stream",
          "name": "stdout",
          "text": [
            "I have 1000 dollars so I can buy 3 football for 450.00 dollars.\n"
          ]
        }
      ]
    },
    {
      "cell_type": "code",
      "source": [
        "#Exercise 11: Percentage Display\n",
        "\n",
        "try:\n",
        "    numerator = float(input(\"Enter the numerator: \"))\n",
        "    denominator = float(input(\"Enter the denominator: \"))\n",
        "    if denominator == 0:\n",
        "        print(\"Error: Denominator cannot be zero.\")\n",
        "    else:\n",
        "        percentage = (numerator / denominator) * 100\n",
        "        print(f\"The percentage is: {percentage:.2f}%\")\n",
        "except ValueError:\n",
        "    print(\"Invalid input. Please enter numbers.\")"
      ],
      "metadata": {
        "colab": {
          "base_uri": "https://localhost:8080/"
        },
        "id": "3wNuRJaDeOBq",
        "outputId": "94add5cc-d36d-48b5-f867-adeef66726be"
      },
      "execution_count": 15,
      "outputs": [
        {
          "output_type": "stream",
          "name": "stdout",
          "text": [
            "Enter the numerator: 55\n",
            "Enter the denominator: 23\n",
            "The percentage is: 239.13%\n"
          ]
        }
      ]
    },
    {
      "cell_type": "code",
      "source": [],
      "metadata": {
        "id": "ZguHTX-Ne8sT"
      },
      "execution_count": null,
      "outputs": []
    }
  ]
}