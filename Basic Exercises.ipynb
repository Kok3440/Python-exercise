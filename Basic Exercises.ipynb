{
  "nbformat": 4,
  "nbformat_minor": 0,
  "metadata": {
    "colab": {
      "provenance": []
    },
    "kernelspec": {
      "name": "python3",
      "display_name": "Python 3"
    },
    "language_info": {
      "name": "python"
    }
  },
  "cells": [
    {
      "cell_type": "code",
      "execution_count": null,
      "metadata": {
        "colab": {
          "base_uri": "https://localhost:8080/"
        },
        "id": "i_xPHPazhWgk",
        "outputId": "02e61e9b-a3f7-4e84-8ac6-b8564ae6c09c"
      },
      "outputs": [
        {
          "output_type": "stream",
          "name": "stdout",
          "text": [
            "True\n",
            "False\n"
          ]
        }
      ],
      "source": [
        "numbers_x = [10, 20, 30, 40, 10]\n",
        "# output True\n",
        "\n",
        "numbers_y = [75, 65, 35, 75, 30]\n",
        "# Output False\n",
        "\n",
        "#Write a code to return True if the list’s first and last numbers are the same. If the numbers are different, return False.\n",
        "\n",
        "def kontrol(input_list):\n",
        "  ilk = input_list[0]\n",
        "  son = input_list[-1]\n",
        "  if ilk == son:\n",
        "    return True\n",
        "  else:\n",
        "    return False\n",
        "\n",
        "print(kontrol(numbers_x))\n",
        "print(kontrol(numbers_y))"
      ]
    },
    {
      "cell_type": "code",
      "source": [
        "#Write a Python code to display numbers from a list divisible by 5\n",
        "\n",
        "#Given list is  [10, 20, 33, 46, 55]\n",
        "#Divisible by 5\n",
        "#10\n",
        "#20\n",
        "#55\n",
        "\n",
        "numbers=[10, 20, 33, 46, 55]\n",
        "\n",
        "def bölünme(input_list):\n",
        "  for i in range(len(input_list)):\n",
        "    if input_list[i]%5==0:\n",
        "      print(input_list[i]);\n",
        "\n",
        "bölünme(numbers)\n"
      ],
      "metadata": {
        "colab": {
          "base_uri": "https://localhost:8080/"
        },
        "id": "sMpL40Q9iSOo",
        "outputId": "dce421f6-09d8-44e1-c1d3-2c10b0ee71ae"
      },
      "execution_count": null,
      "outputs": [
        {
          "output_type": "stream",
          "name": "stdout",
          "text": [
            "10\n",
            "20\n",
            "55\n"
          ]
        }
      ]
    },
    {
      "cell_type": "code",
      "source": [
        "#1\n",
        "#2 2\n",
        "#3 3 3\n",
        "#4 4 4 4\n",
        "#5 5 5 5 5\n",
        "\n",
        "\n",
        "\n",
        "def piramit():\n",
        "  for i in range(1, 6):  # Outer loop for rows (from 1 to 5)\n",
        "    for j in range(i):  # Inner loop for printing numbers in each row\n",
        "      print(i, end=\" \") # Print the row number followed by a space\n",
        "    print()  # Move to the next line after each row\n",
        "\n",
        "\n",
        "piramit()"
      ],
      "metadata": {
        "colab": {
          "base_uri": "https://localhost:8080/"
        },
        "id": "T_rf5QSXj9oX",
        "outputId": "d64b8f88-e073-49ea-9860-61f21f5d5616"
      },
      "execution_count": null,
      "outputs": [
        {
          "output_type": "stream",
          "name": "stdout",
          "text": [
            "1 \n",
            "2 2 \n",
            "3 3 3 \n",
            "4 4 4 4 \n",
            "5 5 5 5 5 \n"
          ]
        }
      ]
    },
    {
      "cell_type": "code",
      "source": [
        "sayı=int(input(\"Lütfen bir sayı girin:\"))\n",
        "\n",
        "def palindrome(x):\n",
        "  dönustur=str(x)\n",
        "  ters=dönustur[::-1]\n",
        "  if dönustur==ters:\n",
        "    print(\"Evet girdiğiniz {} sayısı palindrome bir sayıdır\".format(x));\n",
        "  else:\n",
        "    print(\"Hayır girdiğiniz {} sayısı palindrome bir sayı değildir \".format(x))\n",
        "\n",
        "palindrome(sayı)"
      ],
      "metadata": {
        "colab": {
          "base_uri": "https://localhost:8080/"
        },
        "id": "1pOy-o1Lk66Q",
        "outputId": "657abd58-eee6-4c0c-91bf-00d6feddb00b"
      },
      "execution_count": null,
      "outputs": [
        {
          "output_type": "stream",
          "name": "stdout",
          "text": [
            "Lütfen bir sayı girin:556\n",
            "Hayır girdiğiniz 556 sayısı palindrome bir sayı değildir \n"
          ]
        }
      ]
    },
    {
      "cell_type": "code",
      "source": [
        "# Exercise 10:\n",
        "\n",
        "list1 = [10, 20, 25, 30, 35]\n",
        "list2 = [40, 45, 60, 75, 90]\n",
        "\n",
        "def harman(input_list1,input_list2):\n",
        "  yeni_list=[]\n",
        "  for i in range(len(input_list1)):\n",
        "    if input_list1[i]%2!=0:\n",
        "      yeni_list.append(input_list1[i])\n",
        "  for i in range(len(input_list2)):\n",
        "    if input_list2[i]%2==0:\n",
        "      yeni_list.append(input_list2[i])\n",
        "  print(yeni_list)\n",
        "\n",
        "harman(list1,list2)\n"
      ],
      "metadata": {
        "colab": {
          "base_uri": "https://localhost:8080/"
        },
        "id": "YwT91LUrojlZ",
        "outputId": "e6567494-47a9-4353-a2b8-8984338ef893"
      },
      "execution_count": null,
      "outputs": [
        {
          "output_type": "stream",
          "name": "stdout",
          "text": [
            "[25, 35, 40, 60, 90]\n"
          ]
        }
      ]
    },
    {
      "cell_type": "code",
      "source": [
        "# Exercise 11:\n",
        "\n",
        "number = 7536\n",
        "print(\"Given number\", number)\n",
        "while number > 0:\n",
        "    # get the last digit\n",
        "    digit = number % 10\n",
        "    # remove the last digit and repeat the loop\n",
        "    number = number // 10\n",
        "    print(digit, end=\" \")"
      ],
      "metadata": {
        "id": "73HFwFmQsECs",
        "colab": {
          "base_uri": "https://localhost:8080/"
        },
        "outputId": "f779de78-3a3b-4eb1-84a7-a5e568750ea7"
      },
      "execution_count": null,
      "outputs": [
        {
          "output_type": "stream",
          "name": "stdout",
          "text": [
            "Given number 7536\n",
            "6 3 5 7 "
          ]
        }
      ]
    },
    {
      "cell_type": "code",
      "source": [
        "# Exercise 12:\n",
        "\n",
        "#ilk 10k için 0% ikinci 10k için 10% sonrası 20%\n",
        "\n",
        "gelir= 45000\n",
        "\n",
        "vergi=int(10000*(0/100))+(10000*(10/100))+(25000*(20/100))\n",
        "\n",
        "print(\"gelir verginiz:\",vergi)"
      ],
      "metadata": {
        "colab": {
          "base_uri": "https://localhost:8080/"
        },
        "id": "JtNP1ZX8ulOn",
        "outputId": "43528b37-cdda-4887-f483-91c7ac2c644b"
      },
      "execution_count": null,
      "outputs": [
        {
          "output_type": "stream",
          "name": "stdout",
          "text": [
            "gelir verginiz: 6000.0\n"
          ]
        }
      ]
    },
    {
      "cell_type": "code",
      "source": [
        "#Exercise 13:\n",
        "\n",
        "def tablo():\n",
        "  x=0\n",
        "  while x in range(0,11):\n",
        "    for i in range (1,11):\n",
        "      carpma= x*i\n",
        "      print(x,\"x\",i,\"=\",carpma)\n",
        "    x+=1\n",
        "    print(\"\\t\");\n",
        "tablo()"
      ],
      "metadata": {
        "colab": {
          "base_uri": "https://localhost:8080/"
        },
        "collapsed": true,
        "id": "P5XbHAGmw26T",
        "outputId": "0ab480cc-48fd-4f21-81b8-00b04a9e9492"
      },
      "execution_count": null,
      "outputs": [
        {
          "output_type": "stream",
          "name": "stdout",
          "text": [
            "0 x 1 = 0\n",
            "0 x 2 = 0\n",
            "0 x 3 = 0\n",
            "0 x 4 = 0\n",
            "0 x 5 = 0\n",
            "0 x 6 = 0\n",
            "0 x 7 = 0\n",
            "0 x 8 = 0\n",
            "0 x 9 = 0\n",
            "0 x 10 = 0\n",
            "\t\n",
            "1 x 1 = 1\n",
            "1 x 2 = 2\n",
            "1 x 3 = 3\n",
            "1 x 4 = 4\n",
            "1 x 5 = 5\n",
            "1 x 6 = 6\n",
            "1 x 7 = 7\n",
            "1 x 8 = 8\n",
            "1 x 9 = 9\n",
            "1 x 10 = 10\n",
            "\t\n",
            "2 x 1 = 2\n",
            "2 x 2 = 4\n",
            "2 x 3 = 6\n",
            "2 x 4 = 8\n",
            "2 x 5 = 10\n",
            "2 x 6 = 12\n",
            "2 x 7 = 14\n",
            "2 x 8 = 16\n",
            "2 x 9 = 18\n",
            "2 x 10 = 20\n",
            "\t\n",
            "3 x 1 = 3\n",
            "3 x 2 = 6\n",
            "3 x 3 = 9\n",
            "3 x 4 = 12\n",
            "3 x 5 = 15\n",
            "3 x 6 = 18\n",
            "3 x 7 = 21\n",
            "3 x 8 = 24\n",
            "3 x 9 = 27\n",
            "3 x 10 = 30\n",
            "\t\n",
            "4 x 1 = 4\n",
            "4 x 2 = 8\n",
            "4 x 3 = 12\n",
            "4 x 4 = 16\n",
            "4 x 5 = 20\n",
            "4 x 6 = 24\n",
            "4 x 7 = 28\n",
            "4 x 8 = 32\n",
            "4 x 9 = 36\n",
            "4 x 10 = 40\n",
            "\t\n",
            "5 x 1 = 5\n",
            "5 x 2 = 10\n",
            "5 x 3 = 15\n",
            "5 x 4 = 20\n",
            "5 x 5 = 25\n",
            "5 x 6 = 30\n",
            "5 x 7 = 35\n",
            "5 x 8 = 40\n",
            "5 x 9 = 45\n",
            "5 x 10 = 50\n",
            "\t\n",
            "6 x 1 = 6\n",
            "6 x 2 = 12\n",
            "6 x 3 = 18\n",
            "6 x 4 = 24\n",
            "6 x 5 = 30\n",
            "6 x 6 = 36\n",
            "6 x 7 = 42\n",
            "6 x 8 = 48\n",
            "6 x 9 = 54\n",
            "6 x 10 = 60\n",
            "\t\n",
            "7 x 1 = 7\n",
            "7 x 2 = 14\n",
            "7 x 3 = 21\n",
            "7 x 4 = 28\n",
            "7 x 5 = 35\n",
            "7 x 6 = 42\n",
            "7 x 7 = 49\n",
            "7 x 8 = 56\n",
            "7 x 9 = 63\n",
            "7 x 10 = 70\n",
            "\t\n",
            "8 x 1 = 8\n",
            "8 x 2 = 16\n",
            "8 x 3 = 24\n",
            "8 x 4 = 32\n",
            "8 x 5 = 40\n",
            "8 x 6 = 48\n",
            "8 x 7 = 56\n",
            "8 x 8 = 64\n",
            "8 x 9 = 72\n",
            "8 x 10 = 80\n",
            "\t\n",
            "9 x 1 = 9\n",
            "9 x 2 = 18\n",
            "9 x 3 = 27\n",
            "9 x 4 = 36\n",
            "9 x 5 = 45\n",
            "9 x 6 = 54\n",
            "9 x 7 = 63\n",
            "9 x 8 = 72\n",
            "9 x 9 = 81\n",
            "9 x 10 = 90\n",
            "\t\n",
            "10 x 1 = 10\n",
            "10 x 2 = 20\n",
            "10 x 3 = 30\n",
            "10 x 4 = 40\n",
            "10 x 5 = 50\n",
            "10 x 6 = 60\n",
            "10 x 7 = 70\n",
            "10 x 8 = 80\n",
            "10 x 9 = 90\n",
            "10 x 10 = 100\n",
            "\t\n"
          ]
        }
      ]
    },
    {
      "cell_type": "code",
      "source": [
        "def piramit():\n",
        "  for i in range(5, 0, -1):  # Outer loop for rows (from 5 down to 1)\n",
        "    for j in range(0,i-1):  # Inner loop for printing stars in each row\n",
        "      print(\"*\", end=\" \") # Print the row number of stars followed by a space\n",
        "    print()  # Move to the next line after each row\n",
        "\n",
        "\n",
        "piramit()"
      ],
      "metadata": {
        "colab": {
          "base_uri": "https://localhost:8080/"
        },
        "id": "h-5Ms9SjyJ9J",
        "outputId": "5c24ed0e-e2bb-4119-c0ce-c17189257b20"
      },
      "execution_count": null,
      "outputs": [
        {
          "output_type": "stream",
          "name": "stdout",
          "text": [
            "* * * * \n",
            "* * * \n",
            "* * \n",
            "* \n",
            "\n"
          ]
        }
      ]
    },
    {
      "cell_type": "code",
      "source": [
        "# Exercise 15:\n",
        "base = 2\n",
        "exponent =-5\n",
        "\n",
        "def üs_alma(base,exponent):\n",
        "  print(\"base:{} and exponent:{}\".format(base,exponent),base**exponent)\n",
        "\n",
        "üs_alma(base,exponent)"
      ],
      "metadata": {
        "colab": {
          "base_uri": "https://localhost:8080/"
        },
        "id": "aYRZCKY13ChH",
        "outputId": "4bbca90a-80d2-4be6-9229-313fdc5d2aea"
      },
      "execution_count": null,
      "outputs": [
        {
          "output_type": "stream",
          "name": "stdout",
          "text": [
            "base:2 and exponent:-5 0.03125\n"
          ]
        }
      ]
    },
    {
      "cell_type": "code",
      "source": [
        "#Exercise 16:\n",
        "\n",
        "def is_palindrome_while_loop(number):\n",
        "\n",
        "    original_number = number\n",
        "    reversed_number = 0\n",
        "\n",
        "    while number > 0:\n",
        "        remainder = number % 10\n",
        "        reversed_number = (reversed_number * 10) + remainder\n",
        "        number //= 10\n",
        "\n",
        "    return original_number == reversed_number\n",
        "\n",
        "# Example usage:\n",
        "print(is_palindrome_while_loop(121))   # Output: True\n",
        "print(is_palindrome_while_loop(123))   # Output: False"
      ],
      "metadata": {
        "colab": {
          "base_uri": "https://localhost:8080/"
        },
        "id": "RlLjGGppFpGA",
        "outputId": "e20f08f7-3ad4-4a35-eef9-3ea2aeb2edac"
      },
      "execution_count": null,
      "outputs": [
        {
          "output_type": "stream",
          "name": "stdout",
          "text": [
            "True\n",
            "False\n"
          ]
        }
      ]
    },
    {
      "cell_type": "code",
      "source": [
        "#Exercise 17:\n",
        "\n",
        "sayı1=0\n",
        "sayı2=1\n",
        "\n",
        "for i in range(0,16):\n",
        "  toplam=sayı1+sayı2\n",
        "  sayı1=sayı2\n",
        "  sayı2=toplam\n",
        "  print(toplam,end=\" \")\n"
      ],
      "metadata": {
        "colab": {
          "base_uri": "https://localhost:8080/"
        },
        "id": "BWZyDLUgGF0L",
        "outputId": "8afdcb97-82c6-4b40-b9be-5572cd65c282"
      },
      "execution_count": null,
      "outputs": [
        {
          "output_type": "stream",
          "name": "stdout",
          "text": [
            "1 2 3 5 8 13 21 34 55 89 144 233 377 610 987 1597 "
          ]
        }
      ]
    },
    {
      "cell_type": "code",
      "source": [
        "# Exercise 18: leap year:\n",
        "\n",
        "year = 2020\n",
        "# Output True\n",
        "\n",
        "\n",
        "\n",
        "\n",
        "\n",
        "def is_leap_year(year):\n",
        "    if (year % 4 == 0 and year % 100 != 0) or (year % 400 == 0):\n",
        "        return True\n",
        "    else:\n",
        "        return False\n",
        "\n",
        "print(is_leap_year(2020))\n",
        "print(is_leap_year(2018))\n",
        "print(is_leap_year(1900))\n",
        "print(is_leap_year(2000))\n",
        "print(is_leap_year(2025))"
      ],
      "metadata": {
        "colab": {
          "base_uri": "https://localhost:8080/"
        },
        "id": "eXxfPM5yGro2",
        "outputId": "60ba6d24-c3a6-498b-8fb6-1bf15619c1a8"
      },
      "execution_count": null,
      "outputs": [
        {
          "output_type": "stream",
          "name": "stdout",
          "text": [
            "True\n",
            "False\n",
            "False\n",
            "True\n",
            "False\n"
          ]
        }
      ]
    },
    {
      "cell_type": "code",
      "source": [
        "# Exercise: 19: \"Print Alternate Prime Numbers till 20\"\n",
        "liste=[]\n",
        "for i in range(2,21):\n",
        "  for j in range(2,i):\n",
        "    if i%j==0:\n",
        "      break\n",
        "  else:\n",
        "    liste.append(i)\n",
        "print(\"1 to 20 prime numbers are:\",liste)\n",
        "\n"
      ],
      "metadata": {
        "id": "NNrvGOpzLyq-",
        "colab": {
          "base_uri": "https://localhost:8080/"
        },
        "outputId": "2502c5ef-7ea0-4a23-e0f7-254d4a8d3b71"
      },
      "execution_count": null,
      "outputs": [
        {
          "output_type": "stream",
          "name": "stdout",
          "text": [
            "1 to 20 prime numbers are: [2, 3, 5, 7, 11, 13, 17, 19]\n"
          ]
        }
      ]
    },
    {
      "cell_type": "code",
      "source": [
        "# Exercise 20: Print Reverse Number Pattern\n",
        "\n",
        "for i in range(11,0,-1):\n",
        "  for j in range(1,i-1):\n",
        "    print(j,end=\" \")\n",
        "  print()"
      ],
      "metadata": {
        "colab": {
          "base_uri": "https://localhost:8080/"
        },
        "id": "ERp6Xl49Sizq",
        "outputId": "955f3a48-67c0-43dc-e6de-9232dccd98c4"
      },
      "execution_count": null,
      "outputs": [
        {
          "output_type": "stream",
          "name": "stdout",
          "text": [
            "1 2 3 4 5 6 7 8 9 \n",
            "1 2 3 4 5 6 7 8 \n",
            "1 2 3 4 5 6 7 \n",
            "1 2 3 4 5 6 \n",
            "1 2 3 4 5 \n",
            "1 2 3 4 \n",
            "1 2 3 \n",
            "1 2 \n",
            "1 \n",
            "\n",
            "\n"
          ]
        }
      ]
    },
    {
      "cell_type": "code",
      "source": [
        "#Exercise 21: Check if a user-entered string contains any digits using a for loop\n",
        "\n",
        "a=input(\"Please enter a string:\")\n",
        "\n",
        "for digit in a:\n",
        "  if digit.isdigit():\n",
        "    print(\"String contains a digit\")\n",
        "    break\n",
        "else:\n",
        "  print(\"String does not contain a digit\")\n",
        "\n",
        "\n"
      ],
      "metadata": {
        "id": "_4QIyHDRUBpH",
        "colab": {
          "base_uri": "https://localhost:8080/"
        },
        "outputId": "7a732f5f-25d8-44f1-83a9-d5d837dd54e6"
      },
      "execution_count": 3,
      "outputs": [
        {
          "output_type": "stream",
          "name": "stdout",
          "text": [
            "Please enter a string:anan78\n",
            "String contains a digit\n"
          ]
        }
      ]
    },
    {
      "cell_type": "code",
      "source": [
        "# Exercise 22: Capitalize the first letter of each word in a string\n",
        "\n",
        "str1 = \"pynative.com is for python lovers\"\n",
        "\n",
        "def cap(input_str):\n",
        "  yeni_str=input_str.title()\n",
        "  print(yeni_str)\n",
        "\n",
        "cap(str1)"
      ],
      "metadata": {
        "colab": {
          "base_uri": "https://localhost:8080/"
        },
        "id": "wS57D4X--8NN",
        "outputId": "dab5ce57-2922-4743-ce9b-d7cd0009a2f1"
      },
      "execution_count": 4,
      "outputs": [
        {
          "output_type": "stream",
          "name": "stdout",
          "text": [
            "Pynative.Com Is For Python Lovers\n"
          ]
        }
      ]
    },
    {
      "cell_type": "code",
      "source": [
        "# Exercise 23: Create a simple countdown timer using a while loop.\n",
        "import time\n",
        "\n",
        "def countdown_timer(seconds):\n",
        "\n",
        "  while seconds > 0:\n",
        "    print(f\"Time remaining: {seconds} seconds\")\n",
        "    time.sleep(1)\n",
        "    seconds -= 1\n",
        "\n",
        "  print(\"Time's up!\")\n",
        "\n",
        "\n",
        "duration = 5\n",
        "countdown_timer(duration)"
      ],
      "metadata": {
        "colab": {
          "base_uri": "https://localhost:8080/"
        },
        "id": "tjm6Nkl0_r7p",
        "outputId": "e7d49022-4152-48d9-cbcc-02b3182ecee1"
      },
      "execution_count": 10,
      "outputs": [
        {
          "output_type": "stream",
          "name": "stdout",
          "text": [
            "Time remaining: 5 seconds\n",
            "Time remaining: 4 seconds\n",
            "Time remaining: 3 seconds\n",
            "Time remaining: 2 seconds\n",
            "Time remaining: 1 seconds\n",
            "Time's up!\n"
          ]
        }
      ]
    },
    {
      "cell_type": "code",
      "source": [],
      "metadata": {
        "id": "nQIqWpY0AfAO"
      },
      "execution_count": null,
      "outputs": []
    }
  ]
}